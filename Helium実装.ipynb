{
 "cells": [
  {
   "cell_type": "code",
   "execution_count": 1,
   "id": "2ac44c68-d4e9-4768-9dd8-f486fadfa2e5",
   "metadata": {},
   "outputs": [
    {
     "name": "stdout",
     "output_type": "stream",
     "text": [
      "Collecting helium\n",
      "  Downloading helium-3.0.6.tar.gz (26.1 MB)\n",
      "\u001b[K     |████████████████████████████████| 26.1 MB 14.4 MB/s eta 0:00:01\n",
      "\u001b[?25hRequirement already satisfied: selenium==3.141.0 in /Users/do/.pyenv/versions/anaconda3-2019.10/lib/python3.7/site-packages (from helium) (3.141.0)\n",
      "Requirement already satisfied: urllib3 in /Users/do/.pyenv/versions/anaconda3-2019.10/lib/python3.7/site-packages (from selenium==3.141.0->helium) (1.26.4)\n",
      "Building wheels for collected packages: helium\n",
      "  Building wheel for helium (setup.py) ... \u001b[?25ldone\n",
      "\u001b[?25h  Created wheel for helium: filename=helium-3.0.6-py3-none-any.whl size=26136184 sha256=4f77f5a67124207c4381490f64ece20cf47985669ede99b420ed1caed1ced22f\n",
      "  Stored in directory: /Users/do/Library/Caches/pip/wheels/38/a6/b4/97675c245b5947e4eecd2ee0cd8183623a4e48061199d303a5\n",
      "Successfully built helium\n",
      "Installing collected packages: helium\n",
      "Successfully installed helium-3.0.6\n"
     ]
    }
   ],
   "source": [
    "!pip3 install helium"
   ]
  },
  {
   "cell_type": "code",
   "execution_count": 2,
   "id": "4ae6bc0c-f928-4f28-88ff-db091c0f43e1",
   "metadata": {},
   "outputs": [],
   "source": [
    "from helium import *"
   ]
  },
  {
   "cell_type": "code",
   "execution_count": 3,
   "id": "19bd7fea-4908-44c4-b3ff-c2432d461f1d",
   "metadata": {},
   "outputs": [],
   "source": [
    "driver = start_chrome('https://scraping-for-beginner.herokuapp.com/')"
   ]
  },
  {
   "cell_type": "code",
   "execution_count": 4,
   "id": "4343738b-c187-4c36-b8e6-644d62fab07e",
   "metadata": {},
   "outputs": [],
   "source": [
    "click('ログイン')"
   ]
  },
  {
   "cell_type": "code",
   "execution_count": 5,
   "id": "cc772104-dae3-47e9-90d4-273e7b062d5d",
   "metadata": {},
   "outputs": [],
   "source": [
    "write('imanishi', into='Enter your username')"
   ]
  },
  {
   "cell_type": "code",
   "execution_count": 6,
   "id": "a28cd23e-f1ff-4534-a5bb-d0a9da5489cc",
   "metadata": {},
   "outputs": [],
   "source": [
    "write('kohei', into='Enter your password')"
   ]
  },
  {
   "cell_type": "code",
   "execution_count": 7,
   "id": "8edc2c12-df6b-4afe-b6a1-211248b37822",
   "metadata": {},
   "outputs": [],
   "source": [
    "click('LOGIN')"
   ]
  },
  {
   "cell_type": "code",
   "execution_count": 30,
   "id": "0f5a3d3d-785b-4c02-a2b1-d65c3064a0f4",
   "metadata": {},
   "outputs": [
    {
     "data": {
      "text/plain": [
       "[<th>講師名</th>, <th>所属企業</th>, <th>生年月日</th>, <th>出身</th>, <th>趣味</th>]"
      ]
     },
     "execution_count": 30,
     "metadata": {},
     "output_type": "execute_result"
    }
   ],
   "source": [
    "_items = find_all(S('th'))\n",
    "_items"
   ]
  },
  {
   "cell_type": "code",
   "execution_count": 31,
   "id": "9b107666-b782-4294-b18f-9fa29cf09c67",
   "metadata": {},
   "outputs": [
    {
     "data": {
      "text/plain": [
       "helium.S"
      ]
     },
     "execution_count": 31,
     "metadata": {},
     "output_type": "execute_result"
    }
   ],
   "source": [
    "type(_items[0])"
   ]
  },
  {
   "cell_type": "code",
   "execution_count": 32,
   "id": "5b9706a7-0080-466a-8c2a-40f95a964f9c",
   "metadata": {},
   "outputs": [
    {
     "data": {
      "text/plain": [
       "<th>講師名</th>"
      ]
     },
     "execution_count": 32,
     "metadata": {},
     "output_type": "execute_result"
    }
   ],
   "source": [
    "_item = items[0]\n",
    "_item"
   ]
  },
  {
   "cell_type": "code",
   "execution_count": 33,
   "id": "482af33a-3197-4ce4-93d3-8e8cecf496a9",
   "metadata": {},
   "outputs": [
    {
     "data": {
      "text/plain": [
       "'講師名'"
      ]
     },
     "execution_count": 33,
     "metadata": {},
     "output_type": "execute_result"
    }
   ],
   "source": [
    "_item.web_element.text"
   ]
  },
  {
   "cell_type": "code",
   "execution_count": 34,
   "id": "39f20532-4639-4495-bce7-9ca8fa19a8af",
   "metadata": {},
   "outputs": [
    {
     "data": {
      "text/plain": [
       "['講師名', '所属企業', '生年月日', '出身', '趣味']"
      ]
     },
     "execution_count": 34,
     "metadata": {},
     "output_type": "execute_result"
    }
   ],
   "source": [
    "items = [_item.web_element.text for _item in _items]\n",
    "items"
   ]
  },
  {
   "cell_type": "code",
   "execution_count": 35,
   "id": "8ee2ea5b-d9ba-481d-868d-7e42a045d092",
   "metadata": {},
   "outputs": [
    {
     "data": {
      "text/plain": [
       "[<td id=\"name\">今西 航平</td>,\n",
       " <td id=\"company\">株式会社キカガク</td>,\n",
       " <td id=\"birthday\">1994年7月15日</td>,\n",
       " <td id=\"come_from\">千葉県</td>,\n",
       " <td id=\"hobby\">...</td>]"
      ]
     },
     "execution_count": 35,
     "metadata": {},
     "output_type": "execute_result"
    }
   ],
   "source": [
    "_values = find_all(S('td'))\n",
    "_values"
   ]
  },
  {
   "cell_type": "code",
   "execution_count": 36,
   "id": "fea73f8a-3e04-4de8-b010-618e031a1423",
   "metadata": {},
   "outputs": [],
   "source": [
    "values = [_value.web_element.text for _value in _values]"
   ]
  },
  {
   "cell_type": "code",
   "execution_count": 37,
   "id": "151fc272-c8c3-4db3-ae20-0ce7e3b2c649",
   "metadata": {},
   "outputs": [
    {
     "data": {
      "text/plain": [
       "['今西 航平', '株式会社キカガク', '1994年7月15日', '千葉県', 'バスケットボール\\n読書\\nガジェット集め']"
      ]
     },
     "execution_count": 37,
     "metadata": {},
     "output_type": "execute_result"
    }
   ],
   "source": [
    "values"
   ]
  },
  {
   "cell_type": "code",
   "execution_count": 39,
   "id": "ef7de61a-b1c5-40b2-8277-0a4daf08be2f",
   "metadata": {},
   "outputs": [],
   "source": [
    "import pandas as pd"
   ]
  },
  {
   "cell_type": "code",
   "execution_count": 40,
   "id": "143bb36f-98d1-4ad3-aa0f-710f4efe3593",
   "metadata": {},
   "outputs": [],
   "source": [
    "df = pd.DataFrame()"
   ]
  },
  {
   "cell_type": "code",
   "execution_count": 42,
   "id": "e66a7577-dc29-4f6e-9af0-be0bcf1c9908",
   "metadata": {},
   "outputs": [],
   "source": [
    "df['項目名'] = items"
   ]
  },
  {
   "cell_type": "code",
   "execution_count": 43,
   "id": "f4bbebf2-352c-49df-9256-608bfb735fa3",
   "metadata": {},
   "outputs": [],
   "source": [
    "df['値'] = values"
   ]
  },
  {
   "cell_type": "code",
   "execution_count": 44,
   "id": "b823133d-6a3b-4c03-b131-d2c06728c08f",
   "metadata": {},
   "outputs": [
    {
     "data": {
      "text/html": [
       "<div>\n",
       "<style scoped>\n",
       "    .dataframe tbody tr th:only-of-type {\n",
       "        vertical-align: middle;\n",
       "    }\n",
       "\n",
       "    .dataframe tbody tr th {\n",
       "        vertical-align: top;\n",
       "    }\n",
       "\n",
       "    .dataframe thead th {\n",
       "        text-align: right;\n",
       "    }\n",
       "</style>\n",
       "<table border=\"1\" class=\"dataframe\">\n",
       "  <thead>\n",
       "    <tr style=\"text-align: right;\">\n",
       "      <th></th>\n",
       "      <th>項目名</th>\n",
       "      <th>値</th>\n",
       "    </tr>\n",
       "  </thead>\n",
       "  <tbody>\n",
       "    <tr>\n",
       "      <th>0</th>\n",
       "      <td>講師名</td>\n",
       "      <td>今西 航平</td>\n",
       "    </tr>\n",
       "    <tr>\n",
       "      <th>1</th>\n",
       "      <td>所属企業</td>\n",
       "      <td>株式会社キカガク</td>\n",
       "    </tr>\n",
       "    <tr>\n",
       "      <th>2</th>\n",
       "      <td>生年月日</td>\n",
       "      <td>1994年7月15日</td>\n",
       "    </tr>\n",
       "    <tr>\n",
       "      <th>3</th>\n",
       "      <td>出身</td>\n",
       "      <td>千葉県</td>\n",
       "    </tr>\n",
       "    <tr>\n",
       "      <th>4</th>\n",
       "      <td>趣味</td>\n",
       "      <td>バスケットボール\\n読書\\nガジェット集め</td>\n",
       "    </tr>\n",
       "  </tbody>\n",
       "</table>\n",
       "</div>"
      ],
      "text/plain": [
       "    項目名                      値\n",
       "0   講師名                  今西 航平\n",
       "1  所属企業               株式会社キカガク\n",
       "2  生年月日             1994年7月15日\n",
       "3    出身                    千葉県\n",
       "4    趣味  バスケットボール\\n読書\\nガジェット集め"
      ]
     },
     "execution_count": 44,
     "metadata": {},
     "output_type": "execute_result"
    }
   ],
   "source": [
    "df"
   ]
  },
  {
   "cell_type": "code",
   "execution_count": 45,
   "id": "233aee5c-8b81-4c9e-b35a-7512a45f7eae",
   "metadata": {},
   "outputs": [
    {
     "data": {
      "text/plain": [
       "True"
      ]
     },
     "execution_count": 45,
     "metadata": {},
     "output_type": "execute_result"
    }
   ],
   "source": [
    "get_driver().save_screenshot('screenshot.png')"
   ]
  },
  {
   "cell_type": "code",
   "execution_count": null,
   "id": "97227697-ccf9-42f2-b00c-e6d16f484fde",
   "metadata": {},
   "outputs": [],
   "source": []
  }
 ],
 "metadata": {
  "kernelspec": {
   "display_name": "Python 3",
   "language": "python",
   "name": "python3"
  },
  "language_info": {
   "codemirror_mode": {
    "name": "ipython",
    "version": 3
   },
   "file_extension": ".py",
   "mimetype": "text/x-python",
   "name": "python",
   "nbconvert_exporter": "python",
   "pygments_lexer": "ipython3",
   "version": "3.7.4"
  }
 },
 "nbformat": 4,
 "nbformat_minor": 5
}
